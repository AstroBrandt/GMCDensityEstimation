{
 "cells": [
  {
   "cell_type": "code",
   "execution_count": null,
   "metadata": {},
   "outputs": [],
   "source": [
    "import numpy as np\n",
    "import matplotlib.pyplot as plt\n",
    "import matplotlib.colors as colors\n",
    "import matplotlib as mpl\n",
    "\n",
    "import cmocean as cmx\n",
    "\n",
    "import scipy.interpolate as sint\n",
    "\n",
    "from multiprocess import Pool\n",
    "import tqdm\n",
    "\n",
    "rnd = np.random.default_rng()\n",
    "nproc = 28"
   ]
  },
  {
   "cell_type": "markdown",
   "metadata": {},
   "source": [
    "### Load in the data\n",
    "First, defifne which of the models you want to use (e.g. Model I and Model II as ModelI and ModelII, repsectively). From this it computes the Av extinction using the same scaling as in 3D-PDR.\n",
    "\n",
    "The 3D-PDR data are loaded, too. This consistents of a 2D grid of density and Av. The model here uses an external UV field of 1 Draine and a cosmic ray ionization rate of 1e-17 s-1. There are a total of 601 PDR models, each consisting of 165 Av points. This model is interpolated to get the brightness temperatures for C+, C and CO lines."
   ]
  },
  {
   "cell_type": "code",
   "execution_count": null,
   "metadata": {},
   "outputs": [],
   "source": [
    "model = \"ModelI\"\n",
    "\n",
    "densDat = np.load(\"data/%sGravDens_taurus.npy\"%model)\n",
    "tdensDat = np.load(\"data/%sTurbDens_taurus.npy\"%model)\n",
    "NeffDat = np.load(\"data/%sNeff_taurus.npy\"%model)\n",
    "NturbDat = np.load(\"data/%sTurbCol_taurus.npy\"%model)\n",
    "\n",
    "AvDat = NeffDat * 6.289E-22\n",
    "\n",
    "TurbAv = NturbDat * 6.289E-22"
   ]
  },
  {
   "cell_type": "code",
   "execution_count": null,
   "metadata": {},
   "outputs": [],
   "source": [
    "NPDR = 601\n",
    "lDensArr = (np.arange(0, NPDR,1)/100.)\n",
    "densArr = 10.0**lDensArr\n",
    "AvArr = np.loadtxt(\"data/3DPDR_grid/n000_RT.dat\", usecols=[1], comments=\"#\", skiprows=2)\n",
    "lAvArr = np.log10(AvArr)\n",
    "NAV = len(AvArr)\n",
    "ngridShape = (NPDR, NAV)"
   ]
  },
  {
   "cell_type": "markdown",
   "metadata": {},
   "source": [
    "Load in the 3DPDR data and use bivariate splines for the interpolators. Note that there is a patch fix for certain parts of the grid for the CO brightness temperatures. At low Av, there can sometimes be level population errors which make the emission take weird values - this is patch fixed here so it does not cause random noise speckles in the final maps, but it does not impact the final major result much since the CO is not generally in this regime.\n",
    "\n",
    "Newer versions of the 3D-PDR grids from the Zenodo will have this better fixed."
   ]
  },
  {
   "cell_type": "code",
   "execution_count": null,
   "metadata": {},
   "outputs": [],
   "source": [
    "TCO_grid = np.zeros(ngridShape)\n",
    "TCI_grid = np.zeros(ngridShape)\n",
    "TCII_grid = np.zeros(ngridShape)\n",
    "temp_grid = np.zeros(ngridShape)\n",
    "\n",
    "i = 0\n",
    "while i < NPDR:\n",
    "    fileName = \"data/3DPDR_grid/n%03d_RT.dat\" % i\n",
    "    dat = np.loadtxt(fileName, comments=\"#\", skiprows=2)\n",
    "    TCO_grid[i,:] = dat[:,-1]\n",
    "    indI = np.where(dat[:,-1] < 0)[0]\n",
    "    TCO_grid[i,indI] = 2E-3\n",
    "    TCI_grid[i,:] = dat[:,4]\n",
    "    TCII_grid[i,:]= dat[:,3]\n",
    "    temp_grid[i,:] = dat[:,2]\n",
    "    i += 1\n",
    "\n",
    "splCO = sint.RectBivariateSpline(lDensArr, lAvArr, TCO_grid, bbox=[lDensArr[0], lDensArr[-1], lAvArr[0], lAvArr[-1]])\n",
    "splCI = sint.RectBivariateSpline(lDensArr, lAvArr, TCI_grid, bbox=[lDensArr[0], lDensArr[-1], lAvArr[0], lAvArr[-1]])\n",
    "splCII = sint.RectBivariateSpline(lDensArr, lAvArr, TCII_grid, bbox=[lDensArr[0], lDensArr[-1], lAvArr[0], lAvArr[-1]])\n",
    "splTemp = sint.RectBivariateSpline(lDensArr, lAvArr, temp_grid, bbox=[lDensArr[0], lDensArr[-1], lAvArr[0], lAvArr[-1]])"
   ]
  },
  {
   "cell_type": "code",
   "execution_count": null,
   "metadata": {},
   "outputs": [],
   "source": [
    "fig, ax = plt.subplots(1, 3, figsize=(15,5), sharey=True)\n",
    "\n",
    "p1 = ax[0].pcolor(lAvArr, lDensArr, TCO_grid, cmap='magma', norm=colors.LogNorm(), shading='auto')\n",
    "p2 = ax[1].pcolor(lAvArr, lDensArr, TCI_grid, cmap='magma', norm=colors.LogNorm(), shading='auto')\n",
    "p3 = ax[2].pcolor(lAvArr, lDensArr, TCII_grid, cmap='magma', norm=colors.LogNorm(), shading='auto')\n",
    "\n",
    "ax[0].set_title(\"CO\", fontsize=16)\n",
    "ax[1].set_title(\"CI\", fontsize=16)\n",
    "ax[2].set_title(\"CII\", fontsize=16)\n",
    "\n",
    "ax[0].set_xlabel(\"log10(Av)\", fontsize=16)\n",
    "ax[1].set_xlabel(\"log10(Av)\", fontsize=16)\n",
    "ax[2].set_xlabel(\"log10(Av)\", fontsize=16)\n",
    "\n",
    "ax[0].set_ylabel(\"log10(nH)\", fontsize=16)\n",
    "\n",
    "for axi in ax:\n",
    "    axi.tick_params(which='both', axis='both', labelsize=14)\n",
    "\n",
    "cb1 = fig.colorbar(p1, ax=ax[0])\n",
    "cb2 = fig.colorbar(p2, ax=ax[1])\n",
    "cb3 = fig.colorbar(p3, ax=ax[2])\n",
    "\n",
    "for cbi in [cb1, cb2, cb3]:\n",
    "    cbi.ax.tick_params(labelsize=12)\n",
    "    cbi.ax.set_ylabel(\"T (K)\", fontsize=14)\n",
    "\n",
    "plt.tight_layout()\n",
    "plt.show()"
   ]
  },
  {
   "cell_type": "code",
   "execution_count": null,
   "metadata": {},
   "outputs": [],
   "source": [
    "dataDims = densDat.shape\n",
    "Ndata = np.prod(dataDims)\n",
    "print(dataDims)"
   ]
  },
  {
   "cell_type": "markdown",
   "metadata": {},
   "source": [
    "### Iterate through the map to get the synthetic images\n",
    "Here, we iterate through the Taurus map to get the synthetic images. In order to do this, we pull the turbulent and gravitational densities, effective column density and the turbulent column density. We then use the 3D-PDR model to get the brightness temperatures for C+, C and CO lines. We assume as an approximation that for the diffuse gas the relevant attenuating columnn is the turbulent column density."
   ]
  },
  {
   "cell_type": "code",
   "execution_count": null,
   "metadata": {},
   "outputs": [],
   "source": [
    "CO_image = np.zeros(dataDims)\n",
    "CI_image = np.zeros(dataDims)\n",
    "CII_image = np.zeros(dataDims)\n",
    "temp_image = np.zeros(dataDims)\n",
    "\n",
    "def sampEmiss_func(k):\n",
    "    i = k // dataDims[1]\n",
    "    j = k % dataDims[1]\n",
    "    if (densDat[i,j] == 0) or (densDat[i,j] < densArr[0]):\n",
    "        return 0.0, 0.0, 0.0, 0.0\n",
    "    ldi = np.log10(densDat[i,j])\n",
    "    ltdi = np.log10(tdensDat[i,j])\n",
    "    avi = max(AvDat[i,j], AvArr[0])\n",
    "    avi = min(avi, AvArr[-1])\n",
    "    lav = np.log10(avi)\n",
    "    tavi = max(TurbAv[i,j], AvArr[0])\n",
    "    tavi = min(tavi, AvArr[-1])\n",
    "    ltav = np.log10(tavi)\n",
    "    \n",
    "    tmpCO = splCO(ldi, lav)[0][0]\n",
    "    tmpCI = splCI(ldi, lav)[0][0]\n",
    "    tmpCII = splCII(ldi, lav)[0][0]\n",
    "\n",
    "    tmpCI2 = splCI(ltdi, ltav)[0][0]\n",
    "    if (ltdi > 2) and (ltdi < 3):\n",
    "        tmpCII2 = 0.1\n",
    "    else:\n",
    "        tmpCII2 = splCII(ltdi, ltav)[0][0]\n",
    "    tmpCO2 = splCO(ltdi, ltav)[0][0]\n",
    "\n",
    "    tempG = splTemp(ldi, lav)[0][0]\n",
    "    tempG2 = splTemp(ldi, ltav)[0][0]\n",
    "\n",
    "    tmpCI = tmpCI  + tmpCI2\n",
    "    tmpCII = tmpCII + tmpCII2\n",
    "    tmpCO = tmpCO + tmpCO2\n",
    "    tGas = (tmpCO * tempG + tmpCO2 * tempG2)/(tmpCO + tmpCO2)\n",
    "    return tmpCO, tmpCI, tmpCII, tGas\n",
    "    \n",
    "\n",
    "with Pool(processes=nproc) as p:\n",
    "    batno = 0\n",
    "    numBatch = 10\n",
    "    nBatch = Ndata // numBatch\n",
    "    k = 0\n",
    "    while batno < numBatch:\n",
    "        lower = batno*nBatch\n",
    "        upper = (batno+1)*nBatch\n",
    "        if batno == numBatch-1:\n",
    "            upper = Ndata\n",
    "        results = list(\n",
    "            tqdm.tqdm(\n",
    "                p.imap(sampEmiss_func,\n",
    "                    np.arange(lower, upper, 1), dataDims[1]),\n",
    "                total=(upper - lower)\n",
    "            )\n",
    "        ) \n",
    "        for emiCO,emiCI,emiCII,tgasi in results:\n",
    "            if (emiCO is None):\n",
    "                k += 1\n",
    "                import sys\n",
    "                print(\"ERROR\")\n",
    "                sys.exit()\n",
    "            i = k // dataDims[1]\n",
    "            j = k % dataDims[1]\n",
    "            CO_image[i,j] = emiCO\n",
    "            CI_image[i,j] = emiCI\n",
    "            CII_image[i,j] = emiCII\n",
    "            temp_image[i,j] = tgasi\n",
    "            k += 1\n",
    "        del results\n",
    "        batno += 1\n",
    "    p.close()\n",
    "    p.join()"
   ]
  },
  {
   "cell_type": "markdown",
   "metadata": {},
   "source": [
    "### Plot the images"
   ]
  },
  {
   "cell_type": "code",
   "execution_count": null,
   "metadata": {},
   "outputs": [],
   "source": [
    "CO_img_plt = CO_image.copy()\n",
    "CO_img_plt[densDat == 0] = np.nan\n",
    "fig = plt.figure(figsize=(10,10))\n",
    "ax = fig.add_subplot(111)\n",
    "im = ax.imshow(CO_img_plt, norm=colors.Normalize(vmin=1e-4), cmap=cmx.cm.thermal, origin='lower', rasterized=True)\n",
    "ax.axis('off')\n",
    "cb1 = fig.colorbar(im, shrink=0.75)\n",
    "cb1.set_label(\"CO (J=1-0) (K)\", fontsize=14)\n",
    "plt.tight_layout()\n",
    "fig.savefig(\"CO_image_taurus.pdf\", bbox_inches='tight')\n",
    "plt.show()"
   ]
  },
  {
   "cell_type": "code",
   "execution_count": null,
   "metadata": {},
   "outputs": [],
   "source": [
    "CI_img_plt = CI_image.copy()\n",
    "CI_img_plt[densDat == 0] = np.nan\n",
    "fig = plt.figure(figsize=(10,10))\n",
    "ax = fig.add_subplot(111)\n",
    "im = ax.imshow(CI_img_plt, norm=colors.Normalize(), cmap=cmx.cm.thermal, origin='lower', rasterized=True)\n",
    "ax.axis('off')\n",
    "cb1 = fig.colorbar(im, shrink=0.75)\n",
    "cb1.set_label(\"[CI] (K)\", fontsize=14)\n",
    "plt.tight_layout()\n",
    "fig.savefig(\"CI_image_taurus.pdf\", bbox_inches='tight')\n",
    "plt.show()"
   ]
  },
  {
   "cell_type": "code",
   "execution_count": null,
   "metadata": {},
   "outputs": [],
   "source": [
    "CII_img_plt = CII_image.copy()\n",
    "CII_img_plt[densDat == 0] = np.nan\n",
    "fig = plt.figure(figsize=(10,10))\n",
    "ax = fig.add_subplot(111)\n",
    "im = ax.imshow(CII_img_plt, norm=colors.Normalize(vmin=0, vmax=0.18), cmap=cmx.cm.thermal, origin='lower', rasterized=True)\n",
    "ax.axis('off')\n",
    "cb1 = fig.colorbar(im, shrink=0.75)\n",
    "cb1.set_label(\"[CII] (K)\", fontsize=14)\n",
    "plt.tight_layout()\n",
    "fig.savefig(\"CII_image_taurus.pdf\", bbox_inches='tight')\n",
    "plt.show()"
   ]
  },
  {
   "cell_type": "markdown",
   "metadata": {},
   "source": [
    "### Save the images as numpy arrays for future use if needed"
   ]
  },
  {
   "cell_type": "code",
   "execution_count": null,
   "metadata": {},
   "outputs": [],
   "source": [
    "np.save(\"data/CO_image_taurus.npy\", CO_image)\n",
    "np.save(\"data/CI_image_taurus.npy\", CI_image)\n",
    "np.save(\"data/CII_image_taurus.npy\", CII_image)"
   ]
  },
  {
   "cell_type": "markdown",
   "metadata": {},
   "source": [
    "### Use astropy to make a decent looking RGB image of the three different lines. \n",
    "Note that the coefficients in the RGB image are fairly arbitrary and chosen to best make the image look representative of the data and artistic. Feel free to choose the balance of these yourself!"
   ]
  },
  {
   "cell_type": "code",
   "execution_count": null,
   "metadata": {},
   "outputs": [],
   "source": [
    "from astropy.visualization import make_lupton_rgb\n",
    "datCO = np.load(\"data/CO_image_taurus.npy\")\n",
    "datCI = np.load(\"data/CI_image_taurus.npy\")\n",
    "datCII = np.load(\"data/CII_image_taurus.npy\")"
   ]
  },
  {
   "cell_type": "code",
   "execution_count": null,
   "metadata": {},
   "outputs": [],
   "source": [
    "rgb_default = make_lupton_rgb(0.2*datCO, 0.5*datCI, 4*datCII, stretch=1.0, Q=2)\n",
    "\n",
    "\n",
    "fig = plt.figure(figsize=(12,9))\n",
    "ax = fig.add_subplot(111)\n",
    "\n",
    "rgb_default_plt = rgb_default.copy()\n",
    "rgb_default_plt[datCO == 0] = [255,255,255]\n",
    "\n",
    "ax.imshow(rgb_default_plt, origin='lower')  \n",
    "ax.axis('off')\n",
    "plt.tight_layout()\n",
    "fig.savefig(\"taurus_rgb.pdf\", bbox_inches='tight')\n",
    "plt.show()"
   ]
  }
 ],
 "metadata": {
  "kernelspec": {
   "display_name": "py38",
   "language": "python",
   "name": "python3"
  },
  "language_info": {
   "codemirror_mode": {
    "name": "ipython",
    "version": 3
   },
   "file_extension": ".py",
   "mimetype": "text/x-python",
   "name": "python",
   "nbconvert_exporter": "python",
   "pygments_lexer": "ipython3",
   "version": "3.9.13"
  }
 },
 "nbformat": 4,
 "nbformat_minor": 2
}
